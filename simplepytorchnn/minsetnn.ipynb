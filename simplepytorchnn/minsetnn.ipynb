{
 "cells": [
  {
   "cell_type": "code",
   "execution_count": 1,
   "id": "1011ccf6-57a9-41a5-ae8f-3427c36a8a03",
   "metadata": {},
   "outputs": [
    {
     "name": "stdout",
     "output_type": "stream",
     "text": [
      "Using device: cpu\n"
     ]
    }
   ],
   "source": [
    "# (Run only if you don't have torch) - in Jupyter you can run !pip install ...\n",
    "# !pip install torch torchvision matplotlib\n",
    "\n",
    "import torch\n",
    "import torch.nn as nn\n",
    "import torch.nn.functional as F   # useful functional ops like relu, softmax\n",
    "import torch.optim as optim\n",
    "from torchvision import datasets, transforms\n",
    "from torch.utils.data import DataLoader\n",
    "import matplotlib.pyplot as plt\n",
    "%matplotlib inline\n",
    "\n",
    "# device: will use GPU if available, else CPU\n",
    "device = torch.device(\"cuda\" if torch.cuda.is_available() else \"cpu\")\n",
    "print(\"Using device:\", device)\n",
    "\n",
    "# reproducibility (helps when you experiment)\n",
    "torch.manual_seed(42)\n",
    "if device.type == 'cuda':\n",
    "    torch.cuda.manual_seed(42)\n"
   ]
  },
  {
   "cell_type": "code",
   "execution_count": 2,
   "id": "03050a5e-a9d6-479e-9d8a-7cf9339efadd",
   "metadata": {},
   "outputs": [
    {
     "name": "stdout",
     "output_type": "stream",
     "text": [
      "Downloading http://yann.lecun.com/exdb/mnist/train-images-idx3-ubyte.gz\n",
      "Failed to download (trying next):\n",
      "HTTP Error 404: Not Found\n",
      "\n",
      "Downloading https://ossci-datasets.s3.amazonaws.com/mnist/train-images-idx3-ubyte.gz\n",
      "Downloading https://ossci-datasets.s3.amazonaws.com/mnist/train-images-idx3-ubyte.gz to ./data\\MNIST\\raw\\train-images-idx3-ubyte.gz\n"
     ]
    },
    {
     "name": "stderr",
     "output_type": "stream",
     "text": [
      "100%|███████████████████████████████████████████████████████████████████| 9912422/9912422 [00:07<00:00, 1250475.33it/s]\n"
     ]
    },
    {
     "name": "stdout",
     "output_type": "stream",
     "text": [
      "Extracting ./data\\MNIST\\raw\\train-images-idx3-ubyte.gz to ./data\\MNIST\\raw\n",
      "\n",
      "Downloading http://yann.lecun.com/exdb/mnist/train-labels-idx1-ubyte.gz\n",
      "Failed to download (trying next):\n",
      "HTTP Error 404: Not Found\n",
      "\n",
      "Downloading https://ossci-datasets.s3.amazonaws.com/mnist/train-labels-idx1-ubyte.gz\n",
      "Downloading https://ossci-datasets.s3.amazonaws.com/mnist/train-labels-idx1-ubyte.gz to ./data\\MNIST\\raw\\train-labels-idx1-ubyte.gz\n"
     ]
    },
    {
     "name": "stderr",
     "output_type": "stream",
     "text": [
      "100%|█████████████████████████████████████████████████████████████████████████| 28881/28881 [00:00<00:00, 37296.74it/s]\n"
     ]
    },
    {
     "name": "stdout",
     "output_type": "stream",
     "text": [
      "Extracting ./data\\MNIST\\raw\\train-labels-idx1-ubyte.gz to ./data\\MNIST\\raw\n",
      "\n",
      "Downloading http://yann.lecun.com/exdb/mnist/t10k-images-idx3-ubyte.gz\n",
      "Failed to download (trying next):\n",
      "HTTP Error 404: Not Found\n",
      "\n",
      "Downloading https://ossci-datasets.s3.amazonaws.com/mnist/t10k-images-idx3-ubyte.gz\n",
      "Downloading https://ossci-datasets.s3.amazonaws.com/mnist/t10k-images-idx3-ubyte.gz to ./data\\MNIST\\raw\\t10k-images-idx3-ubyte.gz\n"
     ]
    },
    {
     "name": "stderr",
     "output_type": "stream",
     "text": [
      "100%|████████████████████████████████████████████████████████████████████| 1648877/1648877 [00:02<00:00, 615565.07it/s]\n"
     ]
    },
    {
     "name": "stdout",
     "output_type": "stream",
     "text": [
      "Extracting ./data\\MNIST\\raw\\t10k-images-idx3-ubyte.gz to ./data\\MNIST\\raw\n",
      "\n",
      "Downloading http://yann.lecun.com/exdb/mnist/t10k-labels-idx1-ubyte.gz\n",
      "Failed to download (trying next):\n",
      "HTTP Error 404: Not Found\n",
      "\n",
      "Downloading https://ossci-datasets.s3.amazonaws.com/mnist/t10k-labels-idx1-ubyte.gz\n",
      "Downloading https://ossci-datasets.s3.amazonaws.com/mnist/t10k-labels-idx1-ubyte.gz to ./data\\MNIST\\raw\\t10k-labels-idx1-ubyte.gz\n"
     ]
    },
    {
     "name": "stderr",
     "output_type": "stream",
     "text": [
      "100%|█████████████████████████████████████████████████████████████████████████| 4542/4542 [00:00<00:00, 3778367.47it/s]\n"
     ]
    },
    {
     "name": "stdout",
     "output_type": "stream",
     "text": [
      "Extracting ./data\\MNIST\\raw\\t10k-labels-idx1-ubyte.gz to ./data\\MNIST\\raw\n",
      "\n"
     ]
    },
    {
     "data": {
      "image/png": "[encoded data removed]",
      "text/plain": [
       "<Figure size 1200x300 with 8 Axes>"
      ]
     },
     "metadata": {},
     "output_type": "display_data"
    }
   ],
   "source": [
    "# normalization values are common for MNIST: mean ~0.1307, std ~0.3081\n",
    "transform = transforms.Compose([\n",
    "    transforms.ToTensor(),                      # uint8 0-255 -> float [0,1], shape (C,H,W)\n",
    "    transforms.Normalize((0.1307,), (0.3081,))  # normalize each channel\n",
    "])\n",
    "\n",
    "train_dataset = datasets.MNIST(root='./data', train=True, download=True, transform=transform)\n",
    "test_dataset  = datasets.MNIST(root='./data', train=False, download=True, transform=transform)\n",
    "\n",
    "# quick peek: first 8 images\n",
    "fig, axes = plt.subplots(1, 8, figsize=(12,3))\n",
    "for i in range(8):\n",
    "    img, label = train_dataset[i]\n",
    "    img = img.squeeze(0)  # from (1,28,28) -> (28,28)\n",
    "    # denormalize for display (undo normalize)\n",
    "    img = img * 0.3081 + 0.1307\n",
    "    axes[i].imshow(img, cmap='gray')\n",
    "    axes[i].axis('off')\n",
    "    axes[i].set_title(str(label))\n",
    "plt.show()\n"
   ]
  },
  {
   "cell_type": "code",
   "execution_count": 3,
   "id": "620abb4c-1ab9-45ce-8514-f5f5899d84b6",
   "metadata": {},
   "outputs": [
    {
     "name": "stdout",
     "output_type": "stream",
     "text": [
      "images.shape: torch.Size([64, 1, 28, 28])\n",
      "labels.shape: torch.Size([64])\n"
     ]
    }
   ],
   "source": [
    "batch_size = 64\n",
    "\n",
    "train_loader = DataLoader(train_dataset, batch_size=batch_size, shuffle=True, num_workers=2, pin_memory=True)\n",
    "test_loader  = DataLoader(test_dataset,  batch_size=1000, shuffle=False, num_workers=2, pin_memory=True)\n",
    "\n",
    "# quick sanity: inspect one batch's shapes\n",
    "data_iter = iter(train_loader)\n",
    "images, labels = next(data_iter)\n",
    "print(\"images.shape:\", images.shape)   # (batch_size, 1, 28, 28)\n",
    "print(\"labels.shape:\", labels.shape)   # (batch_size,)\n"
   ]
  },
  {
   "cell_type": "code",
   "execution_count": 4,
   "id": "96c907ea-117b-4d30-bc9e-94218f1a7d2a",
   "metadata": {},
   "outputs": [
    {
     "name": "stdout",
     "output_type": "stream",
     "text": [
      "SimpleMLP(\n",
      "  (fc1): Linear(in_features=784, out_features=256, bias=True)\n",
      "  (fc2): Linear(in_features=256, out_features=64, bias=True)\n",
      "  (fc3): Linear(in_features=64, out_features=10, bias=True)\n",
      "  (dropout): Dropout(p=0.2, inplace=False)\n",
      ")\n"
     ]
    }
   ],
   "source": [
    "class SimpleMLP(nn.Module):\n",
    "    def __init__(self):\n",
    "        super().__init__()\n",
    "        # input size 28*28 = 784\n",
    "        self.fc1 = nn.Linear(28*28, 256)  # first hidden layer\n",
    "        self.fc2 = nn.Linear(256, 64)     # second hidden layer\n",
    "        self.fc3 = nn.Linear(64, 10)      # output: 10 classes (digits 0-9)\n",
    "        self.dropout = nn.Dropout(0.2)    # regularization\n",
    "\n",
    "    def forward(self, x):\n",
    "        # x comes in as (batch, 1, 28, 28). Flatten to (batch, 784)\n",
    "        x = x.view(x.size(0), -1)\n",
    "        x = F.relu(self.fc1(x))   # hidden activation\n",
    "        x = self.dropout(x)\n",
    "        x = F.relu(self.fc2(x))\n",
    "        x = self.fc3(x)           # final layer -- returns raw scores (logits)\n",
    "        return x\n",
    "\n",
    "model = SimpleMLP().to(device)\n",
    "print(model)\n"
   ]
  },
  {
   "cell_type": "code",
   "execution_count": 5,
   "id": "fb3cf6a2-0d5e-4d80-9964-df785da6bcce",
   "metadata": {},
   "outputs": [],
   "source": [
    "criterion = nn.CrossEntropyLoss()           # combines LogSoftmax + NLLLoss\n",
    "optimizer = optim.Adam(model.parameters(), lr=1e-3)\n"
   ]
  },
  {
   "cell_type": "code",
   "execution_count": 6,
   "id": "6e0754a5-a819-4a8b-8dcc-0f5f7e589319",
   "metadata": {},
   "outputs": [],
   "source": [
    "def train_one_epoch(model, device, train_loader, optimizer, criterion, epoch):\n",
    "    model.train()       # sets dropout, batchnorm to training mode\n",
    "    running_loss = 0.0\n",
    "    correct = 0\n",
    "    total = 0\n",
    "\n",
    "    for batch_idx, (data, target) in enumerate(train_loader, start=1):\n",
    "        data, target = data.to(device), target.to(device)\n",
    "\n",
    "        optimizer.zero_grad()           # reset gradients from previous step\n",
    "        outputs = model(data)           # forward pass -> logits\n",
    "        loss = criterion(outputs, target)\n",
    "        loss.backward()                 # compute gradients (backprop)\n",
    "        optimizer.step()                # update parameters\n",
    "\n",
    "        running_loss += loss.item() * data.size(0)  # accumulate loss (per sample)\n",
    "        _, preds = outputs.max(1)       # predicted class = argmax over logits\n",
    "        correct += preds.eq(target).sum().item()\n",
    "        total += target.size(0)\n",
    "\n",
    "        # optional: print progress every 200 batches\n",
    "        if batch_idx % 200 == 0:\n",
    "            print(f\"Epoch {epoch} [{batch_idx*len(data)}/{len(train_loader.dataset)}]  Loss: {loss.item():.4f}\")\n",
    "\n",
    "    epoch_loss = running_loss / len(train_loader.dataset)\n",
    "    epoch_acc = correct / total\n",
    "    print(f\"Epoch {epoch} TRAIN Loss: {epoch_loss:.4f}  Acc: {epoch_acc:.4f}\")\n"
   ]
  },
  {
   "cell_type": "code",
   "execution_count": 7,
   "id": "b941f846-9ab6-4b91-b1de-7dbacf8d2a80",
   "metadata": {},
   "outputs": [],
   "source": [
    "def evaluate(model, device, test_loader, criterion):\n",
    "    model.eval()\n",
    "    test_loss = 0.0\n",
    "    correct = 0\n",
    "    with torch.no_grad():\n",
    "        for data, target in test_loader:\n",
    "            data, target = data.to(device), target.to(device)\n",
    "            outputs = model(data)\n",
    "            test_loss += criterion(outputs, target).item() * data.size(0)\n",
    "            _, preds = outputs.max(1)\n",
    "            correct += preds.eq(target).sum().item()\n",
    "\n",
    "    test_loss /= len(test_loader.dataset)\n",
    "    test_acc = correct / len(test_loader.dataset)\n",
    "    print(f\"TEST  Loss: {test_loss:.4f}  Acc: {correct}/{len(test_loader.dataset)} ({100.*test_acc:.2f}%)\")\n",
    "    return test_loss, test_acc\n"
   ]
  },
  {
   "cell_type": "code",
   "execution_count": 8,
   "id": "4ab406fa-1e57-425a-a4b5-7e5ce3f37be4",
   "metadata": {},
   "outputs": [
    {
     "name": "stdout",
     "output_type": "stream",
     "text": [
      "Epoch 1 [12800/60000]  Loss: 0.3577\n",
      "Epoch 1 [25600/60000]  Loss: 0.2952\n",
      "Epoch 1 [38400/60000]  Loss: 0.1853\n",
      "Epoch 1 [51200/60000]  Loss: 0.0176\n",
      "Epoch 1 TRAIN Loss: 0.2678  Acc: 0.9187\n",
      "TEST  Loss: 0.1236  Acc: 9618/10000 (96.18%)\n",
      "Epoch 2 [12800/60000]  Loss: 0.0587\n",
      "Epoch 2 [25600/60000]  Loss: 0.1185\n",
      "Epoch 2 [38400/60000]  Loss: 0.1741\n",
      "Epoch 2 [51200/60000]  Loss: 0.0992\n",
      "Epoch 2 TRAIN Loss: 0.1198  Acc: 0.9630\n",
      "TEST  Loss: 0.1133  Acc: 9635/10000 (96.35%)\n",
      "Epoch 3 [12800/60000]  Loss: 0.0876\n",
      "Epoch 3 [25600/60000]  Loss: 0.0626\n",
      "Epoch 3 [38400/60000]  Loss: 0.1464\n",
      "Epoch 3 [51200/60000]  Loss: 0.0537\n",
      "Epoch 3 TRAIN Loss: 0.0915  Acc: 0.9716\n",
      "TEST  Loss: 0.0795  Acc: 9755/10000 (97.55%)\n",
      "Epoch 4 [12800/60000]  Loss: 0.0374\n",
      "Epoch 4 [25600/60000]  Loss: 0.0136\n",
      "Epoch 4 [38400/60000]  Loss: 0.0709\n",
      "Epoch 4 [51200/60000]  Loss: 0.0438\n",
      "Epoch 4 TRAIN Loss: 0.0754  Acc: 0.9760\n",
      "TEST  Loss: 0.0785  Acc: 9757/10000 (97.57%)\n",
      "Epoch 5 [12800/60000]  Loss: 0.0147\n",
      "Epoch 5 [25600/60000]  Loss: 0.0087\n",
      "Epoch 5 [38400/60000]  Loss: 0.1160\n",
      "Epoch 5 [51200/60000]  Loss: 0.0235\n",
      "Epoch 5 TRAIN Loss: 0.0654  Acc: 0.9786\n",
      "TEST  Loss: 0.0755  Acc: 9774/10000 (97.74%)\n"
     ]
    }
   ],
   "source": [
    "n_epochs = 5\n",
    "for epoch in range(1, n_epochs+1):\n",
    "    train_one_epoch(model, device, train_loader, optimizer, criterion, epoch)\n",
    "    evaluate(model, device, test_loader, criterion)\n"
   ]
  },
  {
   "cell_type": "code",
   "execution_count": 9,
   "id": "d8d5f6b7-217d-4b3a-a61e-bad06bb0ab3b",
   "metadata": {},
   "outputs": [],
   "source": [
    "torch.save(model.state_dict(), \"mnist_mlp.pth\")"
   ]
  },
  {
   "cell_type": "code",
   "execution_count": null,
   "id": "c0f8598d-a933-406d-995a-55082660c8d8",
   "metadata": {},
   "outputs": [],
   "source": []
  }
 ],
 "metadata": {
  "kernelspec": {
   "display_name": "Python 3 (ipykernel)",
   "language": "python",
   "name": "python3"
  },
  "language_info": {
   "codemirror_mode": {
    "name": "ipython",
    "version": 3
   },
   "file_extension": ".py",
   "mimetype": "text/x-python",
   "name": "python",
   "nbconvert_exporter": "python",
   "pygments_lexer": "ipython3",
   "version": "3.8.5"
  }
 },
 "nbformat": 4,
 "nbformat_minor": 5
}
